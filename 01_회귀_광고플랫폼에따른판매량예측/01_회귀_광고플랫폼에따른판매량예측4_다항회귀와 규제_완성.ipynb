{
  "cells": [
    {
      "cell_type": "code",
      "execution_count": null,
      "metadata": {
        "id": "ZNLf73MO1tw_"
      },
      "outputs": [],
      "source": [
        "import pandas as pd\n",
        "import numpy as np\n",
        "import matplotlib.pyplot as plt\n",
        "import seaborn as sns\n",
        "import koreanize_matplotlib"
      ]
    },
    {
      "cell_type": "markdown",
      "metadata": {
        "id": "099sCTOK2JvV"
      },
      "source": [
        "# 데이터 불러오기"
      ]
    },
    {
      "cell_type": "code",
      "execution_count": null,
      "metadata": {
        "id": "znzF-mg915va"
      },
      "outputs": [],
      "source": [
        "df = pd.read_csv('data/advertising.csv')\n",
        "df.head()"
      ]
    },
    {
      "cell_type": "markdown",
      "metadata": {
        "id": "Fns3N1wdnUmy"
      },
      "source": [
        "# 다항회귀"
      ]
    },
    {
      "cell_type": "markdown",
      "metadata": {},
      "source": [
        "## 변수 선택\n",
        "* 3가지 독립변수 모두 선택"
      ]
    },
    {
      "cell_type": "code",
      "execution_count": null,
      "metadata": {
        "id": "UxJ5_3rfZBMM"
      },
      "outputs": [],
      "source": [
        "# -----------------------------------\n",
        "# 독립변수, 종속변수 선택\n",
        "# -----------------------------------\n",
        "X = df[['TV','Radio','Newspaper']]\n",
        "y = df['Sales']"
      ]
    },
    {
      "cell_type": "markdown",
      "metadata": {},
      "source": [
        "## 훈련세트 테스트세트 분할"
      ]
    },
    {
      "cell_type": "code",
      "execution_count": null,
      "metadata": {},
      "outputs": [],
      "source": [
        "# ------------------------------------------\n",
        "# 훈련세트, 테스트세트 분할\n",
        "# ------------------------------------------\n",
        "from sklearn.model_selection import train_test_split\n",
        "X_train, X_test, y_train, y_test  = train_test_split(X, y, random_state=42)\n",
        "print(X_train.shape, X_test.shape, y_train.shape, y_test.shape)"
      ]
    },
    {
      "cell_type": "markdown",
      "metadata": {},
      "source": [
        "## 다항변환"
      ]
    },
    {
      "cell_type": "code",
      "execution_count": null,
      "metadata": {},
      "outputs": [],
      "source": [
        "from sklearn.preprocessing import PolynomialFeatures\n",
        "ploy = PolynomialFeatures(degree=2, include_bias=False)\n",
        "X_train_ploy = ploy.fit_transform(X_train)\n",
        "X_test_ploy = ploy.fit_transform(X_test)\n",
        "\n",
        "X_train_ploy.shape"
      ]
    },
    {
      "cell_type": "code",
      "execution_count": null,
      "metadata": {},
      "outputs": [],
      "source": [
        "sns.boxplot(X_train_ploy)"
      ]
    },
    {
      "cell_type": "markdown",
      "metadata": {},
      "source": [
        "## 스케일링"
      ]
    },
    {
      "cell_type": "code",
      "execution_count": null,
      "metadata": {},
      "outputs": [],
      "source": [
        "from sklearn.preprocessing import StandardScaler\n",
        "scaler = StandardScaler()\n",
        "X_train_ploy_scaled = scaler.fit_transform(X_train_ploy)\n",
        "X_test_ploy_scaled = scaler.transform(X_test_ploy)"
      ]
    },
    {
      "cell_type": "code",
      "execution_count": null,
      "metadata": {},
      "outputs": [],
      "source": [
        "sns.boxplot(X_test_ploy_scaled)"
      ]
    },
    {
      "cell_type": "markdown",
      "metadata": {},
      "source": [
        "## 모델 생성 및 훈련"
      ]
    },
    {
      "cell_type": "code",
      "execution_count": null,
      "metadata": {},
      "outputs": [],
      "source": [
        "# ------------------------------------------\n",
        "# LinearRegression 클래스 import\n",
        "# ------------------------------------------\n",
        "from sklearn.linear_model import LinearRegression\n",
        "\n",
        "# ------------------------------------------\n",
        "# 모델객체 생성하기\n",
        "# ------------------------------------------\n",
        "model = LinearRegression()\n",
        "\n",
        "# ------------------------------------------\n",
        "# 훈련데이터로 모델 훈련하기\n",
        "# ------------------------------------------\n",
        "model.fit(X_train_ploy_scaled, y_train)"
      ]
    },
    {
      "cell_type": "markdown",
      "metadata": {},
      "source": [
        "## 평가"
      ]
    },
    {
      "cell_type": "code",
      "execution_count": null,
      "metadata": {},
      "outputs": [],
      "source": [
        "from sklearn.metrics import mean_squared_error, mean_absolute_error, root_mean_squared_error, r2_score\n",
        "\n",
        "# -----------------------------------\n",
        "# 테스트데이터의 예측값\n",
        "# -----------------------------------\n",
        "pred = model.predict(X_test_ploy_scaled)\n",
        "\n",
        "# -----------------------------------\n",
        "# 모델 평가\n",
        "# -----------------------------------\n",
        "mse = mean_squared_error(y_test, pred)\n",
        "rmse = root_mean_squared_error(y_test, pred)\n",
        "mae = mean_absolute_error(y_test, pred)\n",
        "r2 = r2_score(y_test, pred)\n",
        "\n",
        "print('===다항회귀 모델의 평가결과===')\n",
        "print(f'R2:{r2:.2f}')\n",
        "print(f'RMSE:{rmse:.2f}')\n",
        "print(f'MAE:{mae:.2f}')\n",
        "print(f'MSE:{mse:.2f}')"
      ]
    },
    {
      "cell_type": "code",
      "execution_count": null,
      "metadata": {},
      "outputs": [],
      "source": [
        "model.score(X_train_ploy_scaled, y_train)"
      ]
    },
    {
      "cell_type": "markdown",
      "metadata": {},
      "source": [
        "## Ridge"
      ]
    },
    {
      "cell_type": "code",
      "execution_count": null,
      "metadata": {},
      "outputs": [],
      "source": [
        "from sklearn.linear_model import Ridge\n",
        "\n",
        "model_ridge = Ridge(alpha=10)\n",
        "model_ridge.fit(X_train_ploy_scaled, y_train)"
      ]
    },
    {
      "cell_type": "code",
      "execution_count": null,
      "metadata": {},
      "outputs": [],
      "source": [
        "from sklearn.metrics import mean_squared_error, mean_absolute_error, root_mean_squared_error, r2_score\n",
        "\n",
        "# -----------------------------------\n",
        "# 테스트데이터의 예측값\n",
        "# -----------------------------------\n",
        "pred = model_ridge.predict(X_test_ploy_scaled)\n",
        "\n",
        "# -----------------------------------\n",
        "# 모델 평가\n",
        "# -----------------------------------\n",
        "mse = mean_squared_error(y_test, pred)\n",
        "rmse = root_mean_squared_error(y_test, pred)\n",
        "mae = mean_absolute_error(y_test, pred)\n",
        "r2 = r2_score(y_test, pred)\n",
        "\n",
        "print('===릿지 모델의 평가결과===')\n",
        "print(f'R2:{r2:.2f}')\n",
        "print(f'RMSE:{rmse:.2f}')\n",
        "print(f'MAE:{mae:.2f}')\n",
        "print(f'MSE:{mse:.2f}')"
      ]
    }
  ],
  "metadata": {
    "colab": {
      "provenance": [],
      "toc_visible": true
    },
    "kernelspec": {
      "display_name": "aischool8",
      "language": "python",
      "name": "python3"
    },
    "language_info": {
      "codemirror_mode": {
        "name": "ipython",
        "version": 3
      },
      "file_extension": ".py",
      "mimetype": "text/x-python",
      "name": "python",
      "nbconvert_exporter": "python",
      "pygments_lexer": "ipython3",
      "version": "3.11.14"
    }
  },
  "nbformat": 4,
  "nbformat_minor": 0
}

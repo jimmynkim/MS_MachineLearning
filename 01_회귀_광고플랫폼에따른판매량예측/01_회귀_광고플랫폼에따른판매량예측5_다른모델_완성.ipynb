{
  "cells": [
    {
      "cell_type": "code",
      "execution_count": null,
      "metadata": {
        "id": "ZNLf73MO1tw_"
      },
      "outputs": [],
      "source": [
        "import pandas as pd\n",
        "import numpy as np\n",
        "import matplotlib.pyplot as plt\n",
        "import seaborn as sns\n",
        "import koreanize_matplotlib"
      ]
    },
    {
      "cell_type": "markdown",
      "metadata": {
        "id": "099sCTOK2JvV"
      },
      "source": [
        "# 데이터 불러오기"
      ]
    },
    {
      "cell_type": "code",
      "execution_count": null,
      "metadata": {
        "id": "znzF-mg915va"
      },
      "outputs": [],
      "source": [
        "df = pd.read_csv('data/advertising.csv')\n",
        "df.head()"
      ]
    },
    {
      "cell_type": "markdown",
      "metadata": {
        "id": "Fns3N1wdnUmy"
      },
      "source": [
        "# 의사결정트리 회귀"
      ]
    },
    {
      "cell_type": "markdown",
      "metadata": {},
      "source": [
        "## 변수 선택\n",
        "* 3가지 독립변수 모두 선택"
      ]
    },
    {
      "cell_type": "code",
      "execution_count": null,
      "metadata": {
        "id": "UxJ5_3rfZBMM"
      },
      "outputs": [],
      "source": [
        "# -----------------------------------\n",
        "# 독립변수, 종속변수 선택\n",
        "# -----------------------------------\n",
        "X = df[['TV','Radio','Newspaper']]\n",
        "y = df['Sales']"
      ]
    },
    {
      "cell_type": "markdown",
      "metadata": {},
      "source": [
        "## 훈련세트 테스트세트 분할"
      ]
    },
    {
      "cell_type": "code",
      "execution_count": null,
      "metadata": {},
      "outputs": [],
      "source": [
        "# ------------------------------------------\n",
        "# 훈련세트, 테스트세트 분할\n",
        "# ------------------------------------------\n",
        "from sklearn.model_selection import train_test_split\n",
        "X_train, X_test, y_train, y_test  = train_test_split(X, y, random_state=42)\n",
        "print(X_train.shape, X_test.shape, y_train.shape, y_test.shape)"
      ]
    },
    {
      "cell_type": "markdown",
      "metadata": {},
      "source": [
        "## 모델 생성 및 훈련"
      ]
    },
    {
      "cell_type": "code",
      "execution_count": null,
      "metadata": {},
      "outputs": [],
      "source": [
        "# ------------------------------------------\n",
        "# 의사결정트리 클래스 import\n",
        "# ------------------------------------------\n",
        "from sklearn.tree import DecisionTreeRegressor\n",
        "\n",
        "# ------------------------------------------\n",
        "# 모델객체 생성하기\n",
        "# ------------------------------------------\n",
        "model = DecisionTreeRegressor()\n",
        "\n",
        "# ------------------------------------------\n",
        "# 훈련데이터로 모델 훈련하기\n",
        "# ------------------------------------------\n",
        "model.fit(X_train, y_train)\n",
        "\n",
        "from sklearn.metrics import mean_squared_error, \\\n",
        "                            mean_absolute_error, \\\n",
        "                            root_mean_squared_error, \\\n",
        "                            r2_score"
      ]
    },
    {
      "cell_type": "markdown",
      "metadata": {},
      "source": [
        "## 평가"
      ]
    },
    {
      "cell_type": "code",
      "execution_count": null,
      "metadata": {},
      "outputs": [],
      "source": [
        "from sklearn.metrics import mean_squared_error, \\\n",
        "                            mean_absolute_error, \\\n",
        "                            root_mean_squared_error, \\\n",
        "                            r2_score\n",
        "\n",
        "# -----------------------------------\n",
        "# 테스트데이터의 예측값\n",
        "# -----------------------------------\n",
        "y_pred = model.predict(X_test)\n",
        "\n",
        "# -----------------------------------\n",
        "# 모델 평가\n",
        "# -----------------------------------\n",
        "mse = mean_squared_error(y_test, y_pred)\n",
        "rmse = root_mean_squared_error(y_test, y_pred)\n",
        "mae = mean_absolute_error(y_test, y_pred)\n",
        "r2 = r2_score(y_test, y_pred)\n",
        "\n",
        "print('===의사결정트리 모델의 평가결과===')\n",
        "print(f'R2:{r2:.4f}')\n",
        "print(f'RMSE:{rmse:.4f}')\n",
        "print(f'MAE:{mae:.4f}')\n",
        "print(f'MSE:{mse:.4f}')"
      ]
    },
    {
      "cell_type": "code",
      "execution_count": null,
      "metadata": {},
      "outputs": [],
      "source": [
        "# ------------------------------------\n",
        "# 실제값과 예측값 시각화 비교\n",
        "# ------------------------------------\n",
        "sns.lineplot(y_pred, marker='o', label='y_pred')\n",
        "sns.lineplot(np.array(y_test), marker='o', label='y_test')\n",
        "plt.grid(ls=':')\n",
        "plt.legend()\n",
        "pass"
      ]
    },
    {
      "cell_type": "markdown",
      "metadata": {},
      "source": [
        "## 모델의 학습 결과"
      ]
    },
    {
      "cell_type": "code",
      "execution_count": null,
      "metadata": {},
      "outputs": [],
      "source": [
        "# ------------------------------------\n",
        "# 트리의 깊이\n",
        "# ------------------------------------\n",
        "model.get_depth()"
      ]
    },
    {
      "cell_type": "code",
      "execution_count": null,
      "metadata": {},
      "outputs": [],
      "source": [
        "# ------------------------------------\n",
        "# 트리 시각화\n",
        "# ------------------------------------\n",
        "from sklearn.tree import plot_tree\n",
        "plt.figure(figsize=(15,5))\n",
        "plot_tree(model, max_depth=2, feature_names=X_train.columns)\n",
        "pass"
      ]
    },
    {
      "cell_type": "code",
      "execution_count": null,
      "metadata": {},
      "outputs": [],
      "source": [
        "# ------------------------------------\n",
        "# 특성의 중요도\n",
        "# ------------------------------------\n",
        "plt.figure(figsize=(3,2))\n",
        "sns.barplot(y=X_train.columns, x=model.feature_importances_);"
      ]
    },
    {
      "cell_type": "markdown",
      "metadata": {},
      "source": [
        "## 과대적합여부 확인"
      ]
    },
    {
      "cell_type": "code",
      "execution_count": null,
      "metadata": {},
      "outputs": [],
      "source": [
        "# -----------------------------------\n",
        "# 훈련데이터의 예측값\n",
        "# -----------------------------------\n",
        "y_train_pred = model.predict(X_train)\n",
        "\n",
        "# -----------------------------------\n",
        "# 모델 평가\n",
        "# -----------------------------------\n",
        "mse = mean_squared_error(y_train, y_train_pred)\n",
        "rmse = root_mean_squared_error(y_train, y_train_pred)\n",
        "mae = mean_absolute_error(y_train, y_train_pred)\n",
        "r2 = r2_score(y_train, y_train_pred)\n",
        "\n",
        "print('===의사결정트리 모델의 평가결과===')\n",
        "print(f'R2:{r2:.4f}')\n",
        "print(f'RMSE:{rmse:.4f}')\n",
        "print(f'MAE:{mae:.4f}')\n",
        "print(f'MSE:{mse:.4f}')"
      ]
    },
    {
      "cell_type": "markdown",
      "metadata": {},
      "source": [
        "# 랜덤포레스트 회귀"
      ]
    },
    {
      "cell_type": "markdown",
      "metadata": {},
      "source": [
        "## 머신러닝"
      ]
    },
    {
      "cell_type": "code",
      "execution_count": null,
      "metadata": {},
      "outputs": [],
      "source": [
        "# ------------------------------------------\n",
        "# RandomForestRegressor 클래스 import\n",
        "# ------------------------------------------\n",
        "from sklearn.ensemble import RandomForestRegressor\n",
        "\n",
        "# ------------------------------------------\n",
        "# 모델객체 생성하기\n",
        "# ------------------------------------------\n",
        "model = RandomForestRegressor()\n",
        "\n",
        "# ------------------------------------------\n",
        "# 훈련데이터로 모델 훈련하기\n",
        "# ------------------------------------------\n",
        "model.fit(X_train, y_train)\n",
        "\n",
        "from sklearn.metrics import mean_squared_error, \\\n",
        "                            mean_absolute_error, \\\n",
        "                            root_mean_squared_error, \\\n",
        "                            r2_score"
      ]
    },
    {
      "cell_type": "markdown",
      "metadata": {},
      "source": [
        "## 평가"
      ]
    },
    {
      "cell_type": "code",
      "execution_count": null,
      "metadata": {},
      "outputs": [],
      "source": [
        "from sklearn.metrics import mean_squared_error, \\\n",
        "                            mean_absolute_error, \\\n",
        "                            root_mean_squared_error, \\\n",
        "                            r2_score\n",
        "\n",
        "# -----------------------------------\n",
        "# 테스트데이터의 예측값\n",
        "# -----------------------------------\n",
        "y_pred = model.predict(X_test)\n",
        "\n",
        "# -----------------------------------\n",
        "# 모델 평가\n",
        "# -----------------------------------\n",
        "mse = mean_squared_error(y_test, y_pred)\n",
        "rmse = root_mean_squared_error(y_test, y_pred)\n",
        "mae = mean_absolute_error(y_test, y_pred)\n",
        "r2 = r2_score(y_test, y_pred)\n",
        "\n",
        "print('===의사결정트리 모델의 평가결과===')\n",
        "print(f'R2:{r2:.4f}')\n",
        "print(f'RMSE:{rmse:.4f}')\n",
        "print(f'MAE:{mae:.4f}')\n",
        "print(f'MSE:{mse:.4f}')"
      ]
    },
    {
      "cell_type": "code",
      "execution_count": null,
      "metadata": {},
      "outputs": [],
      "source": [
        "# --------------------\n",
        "# 특성의 중요도\n",
        "# --------------------\n",
        "plt.figure(figsize=(3,2))\n",
        "sns.barplot(y=X_train.columns, x=model.feature_importances_);"
      ]
    },
    {
      "cell_type": "markdown",
      "metadata": {},
      "source": [
        "# K-최근접 이웃 회귀"
      ]
    },
    {
      "cell_type": "code",
      "execution_count": null,
      "metadata": {},
      "outputs": [],
      "source": [
        "# ------------------------------------------\n",
        "# KNeighborsRegressor 클래스 import\n",
        "# ------------------------------------------\n",
        "from sklearn.neighbors import KNeighborsRegressor\n",
        "\n",
        "# ------------------------------------------\n",
        "# 모델객체 생성하기\n",
        "# ------------------------------------------\n",
        "model = KNeighborsRegressor()\n",
        "\n",
        "# ------------------------------------------\n",
        "# 훈련데이터로 모델 훈련하기\n",
        "# ------------------------------------------\n",
        "model.fit(X_train, y_train)\n",
        "\n",
        "from sklearn.metrics import mean_squared_error, \\\n",
        "                            mean_absolute_error, \\\n",
        "                            root_mean_squared_error, \\\n",
        "                            r2_score"
      ]
    },
    {
      "cell_type": "code",
      "execution_count": null,
      "metadata": {},
      "outputs": [],
      "source": [
        "from sklearn.metrics import mean_squared_error, \\\n",
        "                            mean_absolute_error, \\\n",
        "                            root_mean_squared_error, \\\n",
        "                            r2_score\n",
        "\n",
        "# -----------------------------------\n",
        "# 테스트데이터의 예측값\n",
        "# -----------------------------------\n",
        "y_pred = model.predict(X_test)\n",
        "\n",
        "# -----------------------------------\n",
        "# 모델 평가\n",
        "# -----------------------------------\n",
        "mse = mean_squared_error(y_test, y_pred)\n",
        "rmse = root_mean_squared_error(y_test, y_pred)\n",
        "mae = mean_absolute_error(y_test, y_pred)\n",
        "r2 = r2_score(y_test, y_pred)\n",
        "\n",
        "print('===의사결정트리 모델의 평가결과===')\n",
        "print(f'R2:{r2:.4f}')\n",
        "print(f'RMSE:{rmse:.4f}')\n",
        "print(f'MAE:{mae:.4f}')\n",
        "print(f'MSE:{mse:.4f}')"
      ]
    }
  ],
  "metadata": {
    "colab": {
      "provenance": [],
      "toc_visible": true
    },
    "kernelspec": {
      "display_name": "Python 3",
      "language": "python",
      "name": "python3"
    },
    "language_info": {
      "codemirror_mode": {
        "name": "ipython",
        "version": 3
      },
      "file_extension": ".py",
      "mimetype": "text/x-python",
      "name": "python",
      "nbconvert_exporter": "python",
      "pygments_lexer": "ipython3",
      "version": "3.10.11"
    }
  },
  "nbformat": 4,
  "nbformat_minor": 0
}

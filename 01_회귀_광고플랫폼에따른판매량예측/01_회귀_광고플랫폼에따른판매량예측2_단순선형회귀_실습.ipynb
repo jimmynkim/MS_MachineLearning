{
  "cells": [
    {
      "cell_type": "markdown",
      "metadata": {},
      "source": [
        "# 패키지 불러오기"
      ]
    },
    {
      "cell_type": "code",
      "execution_count": 6,
      "metadata": {
        "id": "ZNLf73MO1tw_"
      },
      "outputs": [],
      "source": [
        "import pandas as pd\n",
        "import numpy as np\n",
        "import matplotlib.pyplot as plt\n",
        "import seaborn as sns\n",
        "import koreanize_matplotlib"
      ]
    },
    {
      "cell_type": "markdown",
      "metadata": {
        "id": "099sCTOK2JvV"
      },
      "source": [
        "# 데이터 불러오기"
      ]
    },
    {
      "cell_type": "code",
      "execution_count": 7,
      "metadata": {
        "id": "znzF-mg915va"
      },
      "outputs": [
        {
          "data": {
            "text/html": [
              "<div>\n",
              "<style scoped>\n",
              "    .dataframe tbody tr th:only-of-type {\n",
              "        vertical-align: middle;\n",
              "    }\n",
              "\n",
              "    .dataframe tbody tr th {\n",
              "        vertical-align: top;\n",
              "    }\n",
              "\n",
              "    .dataframe thead th {\n",
              "        text-align: right;\n",
              "    }\n",
              "</style>\n",
              "<table border=\"1\" class=\"dataframe\">\n",
              "  <thead>\n",
              "    <tr style=\"text-align: right;\">\n",
              "      <th></th>\n",
              "      <th>TV</th>\n",
              "      <th>Radio</th>\n",
              "      <th>Newspaper</th>\n",
              "      <th>Sales</th>\n",
              "    </tr>\n",
              "  </thead>\n",
              "  <tbody>\n",
              "    <tr>\n",
              "      <th>0</th>\n",
              "      <td>230.1</td>\n",
              "      <td>37.8</td>\n",
              "      <td>69.2</td>\n",
              "      <td>22.1</td>\n",
              "    </tr>\n",
              "    <tr>\n",
              "      <th>1</th>\n",
              "      <td>44.5</td>\n",
              "      <td>39.3</td>\n",
              "      <td>45.1</td>\n",
              "      <td>10.4</td>\n",
              "    </tr>\n",
              "    <tr>\n",
              "      <th>2</th>\n",
              "      <td>17.2</td>\n",
              "      <td>45.9</td>\n",
              "      <td>69.3</td>\n",
              "      <td>12.0</td>\n",
              "    </tr>\n",
              "    <tr>\n",
              "      <th>3</th>\n",
              "      <td>151.5</td>\n",
              "      <td>41.3</td>\n",
              "      <td>58.5</td>\n",
              "      <td>16.5</td>\n",
              "    </tr>\n",
              "    <tr>\n",
              "      <th>4</th>\n",
              "      <td>180.8</td>\n",
              "      <td>10.8</td>\n",
              "      <td>58.4</td>\n",
              "      <td>17.9</td>\n",
              "    </tr>\n",
              "  </tbody>\n",
              "</table>\n",
              "</div>"
            ],
            "text/plain": [
              "      TV  Radio  Newspaper  Sales\n",
              "0  230.1   37.8       69.2   22.1\n",
              "1   44.5   39.3       45.1   10.4\n",
              "2   17.2   45.9       69.3   12.0\n",
              "3  151.5   41.3       58.5   16.5\n",
              "4  180.8   10.8       58.4   17.9"
            ]
          },
          "execution_count": 7,
          "metadata": {},
          "output_type": "execute_result"
        }
      ],
      "source": [
        "# ----------------------------------------\n",
        "# 데이터를 불러와 데이터프레임을 만들고\n",
        "# 상위 5개 행을 확인합니다.\n",
        "# ----------------------------------------\n",
        "df = pd.read_csv('data/advertising.csv')\n",
        "df.head()"
      ]
    },
    {
      "cell_type": "markdown",
      "metadata": {
        "id": "OPyE7jbz5k8T"
      },
      "source": [
        "# 단순선형회귀\n",
        "* TV광고량에 따른 판매량 예측"
      ]
    },
    {
      "cell_type": "markdown",
      "metadata": {
        "id": "aOXxW3XU6HNn"
      },
      "source": [
        "## 독립변수, 종속변수 선택\n",
        "* 독립변수는 2차원으로 다룹니다."
      ]
    },
    {
      "cell_type": "code",
      "execution_count": null,
      "metadata": {
        "id": "gMBxfnO36LBa"
      },
      "outputs": [],
      "source": []
    },
    {
      "cell_type": "markdown",
      "metadata": {
        "id": "Mt5IWGdU5-jK"
      },
      "source": [
        "## 훈련세트, 테스트세트 분할\n",
        "* 모듈 : `model_selection`\n",
        "* 함수 : `train_test_split`"
      ]
    },
    {
      "cell_type": "code",
      "execution_count": 8,
      "metadata": {
        "colab": {
          "base_uri": "https://localhost:8080/"
        },
        "id": "bScMdx_h514u",
        "outputId": "fa746da1-07f9-43e1-fbc0-7f70fcb1b8fb"
      },
      "outputs": [],
      "source": [
        "# ------------------------------------------\n",
        "# 훈련세트, 테스트세트 분할\n",
        "# ------------------------------------------"
      ]
    },
    {
      "cell_type": "code",
      "execution_count": 9,
      "metadata": {
        "colab": {
          "base_uri": "https://localhost:8080/",
          "height": 453
        },
        "id": "-bnDMmLmRs-2",
        "outputId": "a7ea70e8-2371-4648-dd08-92ee564ff532"
      },
      "outputs": [],
      "source": [
        "# ------------------------------------------\n",
        "# 훈련세트, 테스트세트 분할 확인 시각화\n",
        "# ------------------------------------------\n"
      ]
    },
    {
      "cell_type": "markdown",
      "metadata": {
        "id": "PGKon_nu6RTm"
      },
      "source": [
        "## 모델 생성 및 훈련\n",
        "* 선형회귀 모델\n",
        "    * 모듈 : `linear_model`\n",
        "    * 클래스 : `LinearRegression`"
      ]
    },
    {
      "cell_type": "code",
      "execution_count": 10,
      "metadata": {
        "colab": {
          "base_uri": "https://localhost:8080/",
          "height": 74
        },
        "id": "anz6AuPU6UUR",
        "outputId": "40e7ff08-cb3d-49de-f3cf-36b3a1d2c115"
      },
      "outputs": [],
      "source": [
        "# ------------------------------------------\n",
        "# LinearRegression 클래스 import\n",
        "# ------------------------------------------\n",
        "\n",
        "\n",
        "# ------------------------------------------\n",
        "# 모델객체 생성하기\n",
        "# ------------------------------------------\n",
        "\n",
        "\n",
        "# ------------------------------------------\n",
        "# 훈련데이터로 모델 훈련하기\n",
        "# ------------------------------------------\n"
      ]
    },
    {
      "cell_type": "markdown",
      "metadata": {
        "id": "cRNfQNGQ6eli"
      },
      "source": [
        "## 테스트세트로 평가\n"
      ]
    },
    {
      "cell_type": "code",
      "execution_count": 11,
      "metadata": {
        "colab": {
          "base_uri": "https://localhost:8080/"
        },
        "id": "VapR78pB6hso",
        "outputId": "e1f562bb-6088-4c7d-f0e3-c69bddea8b23"
      },
      "outputs": [],
      "source": [
        "# ------------------------------------------\n",
        "# 평가 방법 선택 : MSE, MAE, RMSE, R2\n",
        "# ------------------------------------------\n",
        "\n",
        "\n",
        "# ------------------------------------------\n",
        "# 테스트 데이터의 예측값\n",
        "#   pred\n",
        "# ------------------------------------------\n",
        "\n",
        "\n",
        "# ------------------------------------------\n",
        "# 모델 평가 \n",
        "#   - 예측값과 실제값의 차이(Loss/Error) 이용\n",
        "# ------------------------------------------\n",
        "\n"
      ]
    },
    {
      "cell_type": "code",
      "execution_count": 12,
      "metadata": {},
      "outputs": [],
      "source": [
        "# ------------------------------------------\n",
        "# 실제값과 모델의 예측값 비교\n",
        "# ------------------------------------------\n"
      ]
    },
    {
      "cell_type": "code",
      "execution_count": 13,
      "metadata": {},
      "outputs": [],
      "source": [
        "# ------------------------------------------\n",
        "# 회귀모델의 평가점수 수동 계산\n",
        "# ------------------------------------------\n"
      ]
    },
    {
      "cell_type": "markdown",
      "metadata": {
        "id": "0vevFPqw6rIf"
      },
      "source": [
        "## 모델의 학습 결과"
      ]
    },
    {
      "cell_type": "code",
      "execution_count": null,
      "metadata": {
        "colab": {
          "base_uri": "https://localhost:8080/"
        },
        "collapsed": true,
        "id": "gJ_VNxXJ7DpX",
        "outputId": "2abd6638-d9b4-4914-f1ef-ca1d9926d00a"
      },
      "outputs": [],
      "source": [
        "# -----------------------------------------\n",
        "# 회귀계수, 절편, 회귀식\n",
        "# -----------------------------------------"
      ]
    },
    {
      "cell_type": "code",
      "execution_count": 14,
      "metadata": {
        "colab": {
          "base_uri": "https://localhost:8080/",
          "height": 415
        },
        "id": "Rua5JYpB7JK1",
        "outputId": "f39c2d2a-e629-4761-a012-7cebac18e941"
      },
      "outputs": [],
      "source": [
        "# ------------------------------------------\n",
        "# 테스트데이터 실제값과 예측값 확인\n",
        "# ------------------------------------------\n",
        "\n",
        "\n"
      ]
    },
    {
      "cell_type": "code",
      "execution_count": 15,
      "metadata": {},
      "outputs": [],
      "source": [
        "# ------------------------------------------\n",
        "# 테스트데이터 실제값과 예측값 확인\n",
        "# ------------------------------------------\n",
        "\n"
      ]
    }
  ],
  "metadata": {
    "colab": {
      "provenance": [],
      "toc_visible": true
    },
    "kernelspec": {
      "display_name": "aischool8",
      "language": "python",
      "name": "python3"
    },
    "language_info": {
      "codemirror_mode": {
        "name": "ipython",
        "version": 3
      },
      "file_extension": ".py",
      "mimetype": "text/x-python",
      "name": "python",
      "nbconvert_exporter": "python",
      "pygments_lexer": "ipython3",
      "version": "3.11.14"
    }
  },
  "nbformat": 4,
  "nbformat_minor": 0
}

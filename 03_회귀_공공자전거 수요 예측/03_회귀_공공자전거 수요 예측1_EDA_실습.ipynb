{
 "cells": [
  {
   "cell_type": "code",
   "execution_count": null,
   "id": "c37758de",
   "metadata": {
    "colab": {
     "base_uri": "https://localhost:8080/",
     "height": 237
    },
    "executionInfo": {
     "elapsed": 3388,
     "status": "ok",
     "timestamp": 1722762556575,
     "user": {
      "displayName": "Jayoung Kim",
      "userId": "14447265827232008674"
     },
     "user_tz": -540
    },
    "id": "c37758de",
    "outputId": "c85bb55d-1901-4f3b-b364-b30c1f8c4904"
   },
   "outputs": [],
   "source": [
    "import pandas as pd\n",
    "import numpy as np\n",
    "import matplotlib.pyplot as plt\n",
    "import seaborn as sns\n",
    "import koreanize_matplotlib"
   ]
  },
  {
   "cell_type": "markdown",
   "id": "Dgz6yfD1iEB1",
   "metadata": {
    "id": "Dgz6yfD1iEB1"
   },
   "source": [
    "## 데이터 준비\n",
    "\n",
    "* 속성 정보\n",
    "    * `datetime` - 시간대별 데이터 제공. timestamp(날짜와 시간 결합) 형태\n",
    "    * `season`  - 1 = spring, 2 = summer, 3 = fall, 4 = winter\n",
    "    * `holiday` - 공휴일(주말이 아닌 빨간날). 1-yes, 2-no\n",
    "    * `workingday` - 주말, 공휴일을 제외한 날 1-yes, 2-no\n",
    "    * `weather`\n",
    "        * 1: Clear, Few clouds, Partly cloudy, Partly cloudy\n",
    "        * 2: Mist + Cloudy, Mist + Broken clouds, Mist + Few clouds, Mist\n",
    "        * 3: Light Snow, Light Rain + Thunderstorm + Scattered clouds, Light Rain + Scattered clouds\n",
    "        * 4: Heavy Rain + Ice Pallets + Thunderstorm + Mist, Snow + Fog\n",
    "    * `temp` - 섭씨온도\n",
    "    * `atemp` - 섭씨체감온도\n",
    "    * `humidity` - 상대습도\n",
    "    * `windspeed` - 풍속\n",
    "    * `casual` - 비회원 대여량\n",
    "    * `registered` - 회원 대여량\n",
    "    * `count` - 총 대여량"
   ]
  },
  {
   "cell_type": "code",
   "execution_count": null,
   "id": "8d7c39a8",
   "metadata": {
    "colab": {
     "base_uri": "https://localhost:8080/",
     "height": 269
    },
    "executionInfo": {
     "elapsed": 617,
     "status": "ok",
     "timestamp": 1722762557187,
     "user": {
      "displayName": "Jayoung Kim",
      "userId": "14447265827232008674"
     },
     "user_tz": -540
    },
    "id": "8d7c39a8",
    "outputId": "687966af-5451-4eaf-f732-0d857e0fb903"
   },
   "outputs": [],
   "source": [
    "df = pd.read_csv('data/bike_sharing_demand.csv', parse_dates=['datetime'])\n",
    "df.head()"
   ]
  },
  {
   "cell_type": "code",
   "execution_count": null,
   "id": "ace125a6",
   "metadata": {
    "colab": {
     "base_uri": "https://localhost:8080/"
    },
    "executionInfo": {
     "elapsed": 8,
     "status": "ok",
     "timestamp": 1722762557187,
     "user": {
      "displayName": "Jayoung Kim",
      "userId": "14447265827232008674"
     },
     "user_tz": -540
    },
    "id": "ace125a6",
    "outputId": "f663dfed-8eda-4d00-a4de-511ab27956b1"
   },
   "outputs": [],
   "source": [
    "# 데이터 정보\n"
   ]
  },
  {
   "cell_type": "markdown",
   "id": "5cfcb70f",
   "metadata": {
    "id": "5cfcb70f"
   },
   "source": [
    "# 파생컬럼 추가\n",
    "- datetime 타입의 데이터로부터 날짜, 시간 관련 정보 추출\n",
    "- dt 접근자를 사용\n",
    "    - `컬럼.dt.year`\n",
    "    - `컬럼.dt.month`    \n",
    "    - `컬럼.dt.day`\n",
    "    - `컬럼.dt.hour`\n",
    "    - `컬럼.dt.dayofweek`"
   ]
  },
  {
   "cell_type": "code",
   "execution_count": null,
   "id": "56c115dc",
   "metadata": {
    "colab": {
     "base_uri": "https://localhost:8080/",
     "height": 399
    },
    "executionInfo": {
     "elapsed": 8,
     "status": "ok",
     "timestamp": 1722762557538,
     "user": {
      "displayName": "Jayoung Kim",
      "userId": "14447265827232008674"
     },
     "user_tz": -540
    },
    "id": "56c115dc",
    "outputId": "48c6fd97-ba5a-4ca7-cd80-7f2f4462b1f5"
   },
   "outputs": [],
   "source": [
    "# 연, 월, 일, 시, 요일\n"
   ]
  },
  {
   "cell_type": "markdown",
   "id": "1be88415",
   "metadata": {
    "id": "1be88415"
   },
   "source": [
    "# 데이터 탐색(EDA)\n",
    "* 데이터의 품질 확인(값의 분포, 결측치, 이상치 등)\n",
    "* 독립변수와 종속변수간의 관계를 중점적으로 탐색"
   ]
  },
  {
   "cell_type": "code",
   "execution_count": null,
   "id": "c9a5d77b",
   "metadata": {},
   "outputs": [],
   "source": [
    "# ------------------------\n",
    "# 데이터 수집 기간\n",
    "# ------------------------\n"
   ]
  },
  {
   "cell_type": "code",
   "execution_count": null,
   "id": "3e2b6e96",
   "metadata": {},
   "outputs": [],
   "source": [
    "# ------------------------------------------------\n",
    "# 독립변수 - 범주형, 수치형, 순환형 변수 구분\n",
    "# ------------------------------------------------\n",
    "# cat_cols = ['season','holiday','workingday','weather']      \n",
    "# num_cols = ['temp','atemp','humidity','windspeed', 'year']\n",
    "# cycle_cols = ['month', 'day', 'hour', 'dayofweek']"
   ]
  },
  {
   "cell_type": "markdown",
   "id": "58d800d9",
   "metadata": {},
   "source": [
    "## 독립변수의 통계적 특성"
   ]
  },
  {
   "cell_type": "markdown",
   "id": "44391915",
   "metadata": {},
   "source": [
    "### 범주형 변수"
   ]
  },
  {
   "cell_type": "code",
   "execution_count": null,
   "id": "3bc7369f",
   "metadata": {},
   "outputs": [],
   "source": [
    "# ---------------------------\n",
    "# 각 범주별 데이터 빈도수 시각화\n",
    "# ---------------------------\n"
   ]
  },
  {
   "cell_type": "code",
   "execution_count": null,
   "id": "44f1ccf2",
   "metadata": {},
   "outputs": [],
   "source": [
    "# ---------------------------\n",
    "# 각 범주별 데이터 빈도수\n",
    "# ---------------------------\n"
   ]
  },
  {
   "cell_type": "code",
   "execution_count": null,
   "id": "0beb516f",
   "metadata": {},
   "outputs": [],
   "source": []
  },
  {
   "cell_type": "markdown",
   "id": "508d8c59",
   "metadata": {},
   "source": [
    "## 수치형 변수\n",
    "- 각 데이터의 분포"
   ]
  },
  {
   "cell_type": "code",
   "execution_count": null,
   "id": "312491de",
   "metadata": {},
   "outputs": [],
   "source": [
    "# ---------------------------\n",
    "# 수치형 데이터의 분포 시각화\n",
    "# ---------------------------\n"
   ]
  },
  {
   "cell_type": "code",
   "execution_count": null,
   "id": "c57dbb88",
   "metadata": {},
   "outputs": [],
   "source": [
    "# ---------------------------\n",
    "# 수치형 데이터 박스플롯\n",
    "# ---------------------------\n"
   ]
  },
  {
   "cell_type": "code",
   "execution_count": null,
   "id": "a9315e98",
   "metadata": {},
   "outputs": [],
   "source": [
    "# ---------------------------\n",
    "# 수치형 데이터의 요약통계\n",
    "# ---------------------------\n"
   ]
  },
  {
   "cell_type": "markdown",
   "id": "0675bd3f",
   "metadata": {
    "id": "0675bd3f"
   },
   "source": [
    "## 독립변수와 종속변수의 관계"
   ]
  },
  {
   "cell_type": "markdown",
   "id": "1e932bcc",
   "metadata": {},
   "source": [
    "### 범주형 변수\n",
    "- 막대그래프로 확인"
   ]
  },
  {
   "cell_type": "code",
   "execution_count": null,
   "id": "f249b953",
   "metadata": {},
   "outputs": [],
   "source": []
  },
  {
   "cell_type": "markdown",
   "id": "29910481",
   "metadata": {},
   "source": [
    "### 수치형 변수\n",
    "- 산점도로 확인"
   ]
  },
  {
   "cell_type": "code",
   "execution_count": null,
   "id": "a90510d4",
   "metadata": {},
   "outputs": [],
   "source": []
  },
  {
   "cell_type": "markdown",
   "id": "40b7db43",
   "metadata": {},
   "source": [
    "## 순환형\n",
    "- lineplot"
   ]
  },
  {
   "cell_type": "code",
   "execution_count": null,
   "id": "f9c4d2ab",
   "metadata": {},
   "outputs": [],
   "source": []
  },
  {
   "cell_type": "code",
   "execution_count": null,
   "id": "CNZArqjK8gbk",
   "metadata": {
    "colab": {
     "base_uri": "https://localhost:8080/",
     "height": 474
    },
    "executionInfo": {
     "elapsed": 10865,
     "status": "ok",
     "timestamp": 1722762579072,
     "user": {
      "displayName": "Jayoung Kim",
      "userId": "14447265827232008674"
     },
     "user_tz": -540
    },
    "id": "CNZArqjK8gbk",
    "outputId": "816f4c2e-4cca-4158-bc4b-7e29e7b43918"
   },
   "outputs": [],
   "source": [
    "# -----------------------------\n",
    "# 시간대 - 요일 별 평균 대여량\n",
    "# -----------------------------\n"
   ]
  },
  {
   "cell_type": "markdown",
   "id": "b667cc08",
   "metadata": {
    "id": "b667cc08"
   },
   "source": [
    "## 상관계수\n",
    "* 피어슨 상관계수\n",
    "    * 두 변수 간의 선형 관계의 강도와 방향을 측정.\n",
    "    * 파이썬에서 corr()함수를 이용하여 구할 수 있음.\n",
    "    * +1과 -1 사이의 값을 가진다.\n",
    "        * +1 : 완벽한 양의 선형 상관 관계\n",
    "        * -1 : 완벽한 음의 상관관계\n",
    "        * 0 : 선형 상관 관계 없음,\n",
    "    \n",
    "* 다중공선성\n",
    "    * 독립변수 간 강한 상관관계가 있는 경우\n",
    "    * 둘중 하나의 변수만 사용"
   ]
  },
  {
   "cell_type": "code",
   "execution_count": null,
   "id": "9e9e34cb",
   "metadata": {},
   "outputs": [],
   "source": []
  },
  {
   "cell_type": "code",
   "execution_count": null,
   "id": "29a81ae0",
   "metadata": {
    "colab": {
     "base_uri": "https://localhost:8080/",
     "height": 452
    },
    "executionInfo": {
     "elapsed": 573,
     "status": "ok",
     "timestamp": 1722762613093,
     "user": {
      "displayName": "Jayoung Kim",
      "userId": "14447265827232008674"
     },
     "user_tz": -540
    },
    "id": "29a81ae0",
    "outputId": "d7fec68e-4bbd-451e-de59-8569ddcc3f9c"
   },
   "outputs": [],
   "source": []
  }
 ],
 "metadata": {
  "colab": {
   "provenance": [],
   "toc_visible": true
  },
  "kernelspec": {
   "display_name": "aischool8",
   "language": "python",
   "name": "python3"
  },
  "language_info": {
   "codemirror_mode": {
    "name": "ipython",
    "version": 3
   },
   "file_extension": ".py",
   "mimetype": "text/x-python",
   "name": "python",
   "nbconvert_exporter": "python",
   "pygments_lexer": "ipython3",
   "version": "3.11.14"
  },
  "toc": {
   "base_numbering": 1,
   "nav_menu": {},
   "number_sections": true,
   "sideBar": true,
   "skip_h1_title": false,
   "title_cell": "Table of Contents",
   "title_sidebar": "Contents",
   "toc_cell": false,
   "toc_position": {
    "height": "calc(100% - 180px)",
    "left": "10px",
    "top": "150px",
    "width": "250.698px"
   },
   "toc_section_display": true,
   "toc_window_display": true
  }
 },
 "nbformat": 4,
 "nbformat_minor": 5
}

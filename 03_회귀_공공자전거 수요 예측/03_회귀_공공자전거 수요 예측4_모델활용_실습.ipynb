{
 "cells": [
  {
   "cell_type": "code",
   "execution_count": 1,
   "id": "1afe7391",
   "metadata": {},
   "outputs": [],
   "source": [
    "import pandas as pd\n",
    "import numpy as np"
   ]
  },
  {
   "cell_type": "markdown",
   "id": "223188a5",
   "metadata": {},
   "source": [
    "## 파이프라인 불러오기"
   ]
  },
  {
   "cell_type": "code",
   "execution_count": 2,
   "id": "c37758de",
   "metadata": {
    "colab": {
     "base_uri": "https://localhost:8080/",
     "height": 237
    },
    "executionInfo": {
     "elapsed": 3388,
     "status": "ok",
     "timestamp": 1722762556575,
     "user": {
      "displayName": "Jayoung Kim",
      "userId": "14447265827232008674"
     },
     "user_tz": -540
    },
    "id": "c37758de",
    "outputId": "c85bb55d-1901-4f3b-b364-b30c1f8c4904"
   },
   "outputs": [],
   "source": [
    "# ------------------\n",
    "# 파이프라인 불러오기 \n",
    "# ------------------\n",
    "import joblib\n",
    "import sys\n",
    "import os\n",
    "\n",
    "# 현재 파일의 디렉토리 경로 가져오기\n",
    "current_dir = os.getcwd()\n",
    "\n",
    "# MS_MACHINELEARING 루트 디렉토리 경로 계산 ()\n",
    "MS_MACHINELEARINING = os.path.join(current_dir, '..')\n",
    "\n",
    "# 시스템 경로에 MS_MACHINELEARNING를 추가\n",
    "sys.path.append(MS_MACHINELEARINING)\n",
    "\n",
    "# 유틸리티 파일에서 순환형 데이터 인코딩 함수 임포트\n",
    "from utils.cyc_incoding import cyclical_feature_engineer\n",
    "\n",
    "loaded_pipe = joblib.load(\"C:/Users/EL087/Desktop/MS_MachineLearning/model/bike_rent_pipe.pkl\")"
   ]
  },
  {
   "cell_type": "markdown",
   "id": "Dgz6yfD1iEB1",
   "metadata": {
    "id": "Dgz6yfD1iEB1"
   },
   "source": [
    "## 예측할 데이터 준비"
   ]
  },
  {
   "cell_type": "code",
   "execution_count": 3,
   "id": "6ef1cbb9",
   "metadata": {},
   "outputs": [],
   "source": [
    "1# --------------------\n",
    "# 예측에 사용될 독립변수\n",
    "#   year, month, dayofweek, hour,\n",
    "# \tseason, holiday, workingday, weather,\n",
    "#   atemp, humidity, windspeed\n",
    "# --------------------\n",
    "\n",
    "# 날짜를 입력받아 year, month, dayofweek 분리\n",
    "date = input(\"날짜(yyyy-mm-dd) 2011~2013년\")\n",
    "date = pd.to_datetime(date)\n",
    "year = date.year\n",
    "month = date.month\n",
    "dayofweek = date.dayofweek\n",
    "hour = int(input(\"시(0~23)>>>\"))\n",
    "\n",
    "# 범주형 ---------------\n",
    "season = (month-1)//3+1\n",
    "holiday = int(input(\"공휴일여부(0,1)>>>\"))\n",
    "workingday = int((dayofweek not in [5,6]) and (not holiday))\n",
    "weather = int(input(\"날씨(1,2,3,4)>>>\"))\n",
    "\n",
    "# 수치형 ---------------\n",
    "atemp = float(input(\"체감온도 >>>\"))\n",
    "humidity = float(input(\"습도 >>>\"))\n",
    "windspeed = float(input(\"풍속 >>>\"))\n"
   ]
  },
  {
   "cell_type": "code",
   "execution_count": 4,
   "id": "8d7c39a8",
   "metadata": {
    "colab": {
     "base_uri": "https://localhost:8080/",
     "height": 269
    },
    "executionInfo": {
     "elapsed": 617,
     "status": "ok",
     "timestamp": 1722762557187,
     "user": {
      "displayName": "Jayoung Kim",
      "userId": "14447265827232008674"
     },
     "user_tz": -540
    },
    "id": "8d7c39a8",
    "outputId": "687966af-5451-4eaf-f732-0d857e0fb903"
   },
   "outputs": [
    {
     "data": {
      "text/html": [
       "<div>\n",
       "<style scoped>\n",
       "    .dataframe tbody tr th:only-of-type {\n",
       "        vertical-align: middle;\n",
       "    }\n",
       "\n",
       "    .dataframe tbody tr th {\n",
       "        vertical-align: top;\n",
       "    }\n",
       "\n",
       "    .dataframe thead th {\n",
       "        text-align: right;\n",
       "    }\n",
       "</style>\n",
       "<table border=\"1\" class=\"dataframe\">\n",
       "  <thead>\n",
       "    <tr style=\"text-align: right;\">\n",
       "      <th></th>\n",
       "      <th>year</th>\n",
       "      <th>month</th>\n",
       "      <th>dayofweek</th>\n",
       "      <th>hour</th>\n",
       "      <th>season</th>\n",
       "      <th>holiday</th>\n",
       "      <th>workingday</th>\n",
       "      <th>weather</th>\n",
       "      <th>atemp</th>\n",
       "      <th>humidity</th>\n",
       "      <th>windspeed</th>\n",
       "    </tr>\n",
       "  </thead>\n",
       "  <tbody>\n",
       "    <tr>\n",
       "      <th>0</th>\n",
       "      <td>2013</td>\n",
       "      <td>12</td>\n",
       "      <td>2</td>\n",
       "      <td>0</td>\n",
       "      <td>4</td>\n",
       "      <td>1</td>\n",
       "      <td>0</td>\n",
       "      <td>2</td>\n",
       "      <td>0.0</td>\n",
       "      <td>10.0</td>\n",
       "      <td>10.0</td>\n",
       "    </tr>\n",
       "  </tbody>\n",
       "</table>\n",
       "</div>"
      ],
      "text/plain": [
       "   year  month  dayofweek  hour  season  holiday  workingday  weather  atemp  \\\n",
       "0  2013     12          2     0       4        1           0        2    0.0   \n",
       "\n",
       "   humidity  windspeed  \n",
       "0      10.0       10.0  "
      ]
     },
     "execution_count": 4,
     "metadata": {},
     "output_type": "execute_result"
    }
   ],
   "source": [
    "columns = ['year','month','dayofweek','hour',\\\n",
    "           'season','holiday','workingday','weather', \\\n",
    "            'atemp','humidity','windspeed']\n",
    "X = [[year, month, dayofweek, hour, \\\n",
    "             season, holiday, workingday, weather, \\\n",
    "             atemp, humidity, windspeed]]\n",
    "X = pd.DataFrame(X, columns = columns)\n",
    "X"
   ]
  },
  {
   "cell_type": "markdown",
   "id": "6a732d56",
   "metadata": {},
   "source": [
    "## 예측"
   ]
  },
  {
   "cell_type": "code",
   "execution_count": 5,
   "id": "fcba3b47",
   "metadata": {},
   "outputs": [
    {
     "name": "stdout",
     "output_type": "stream",
     "text": [
      "예상 대여 수: 37대\n"
     ]
    }
   ],
   "source": [
    "# Pipeline 내부에서 자동으로 → One‑Hot → 스케일링 → 예측\n",
    "count_pred = loaded_pipe.predict(X)[0]\n",
    "print(f\"예상 대여 수: {count_pred:.0f}대\")"
   ]
  }
 ],
 "metadata": {
  "colab": {
   "provenance": [],
   "toc_visible": true
  },
  "kernelspec": {
   "display_name": "Python 3",
   "language": "python",
   "name": "python3"
  },
  "language_info": {
   "codemirror_mode": {
    "name": "ipython",
    "version": 3
   },
   "file_extension": ".py",
   "mimetype": "text/x-python",
   "name": "python",
   "nbconvert_exporter": "python",
   "pygments_lexer": "ipython3",
   "version": "3.10.11"
  },
  "toc": {
   "base_numbering": 1,
   "nav_menu": {},
   "number_sections": true,
   "sideBar": true,
   "skip_h1_title": false,
   "title_cell": "Table of Contents",
   "title_sidebar": "Contents",
   "toc_cell": false,
   "toc_position": {
    "height": "calc(100% - 180px)",
    "left": "10px",
    "top": "150px",
    "width": "250.698px"
   },
   "toc_section_display": true,
   "toc_window_display": true
  }
 },
 "nbformat": 4,
 "nbformat_minor": 5
}

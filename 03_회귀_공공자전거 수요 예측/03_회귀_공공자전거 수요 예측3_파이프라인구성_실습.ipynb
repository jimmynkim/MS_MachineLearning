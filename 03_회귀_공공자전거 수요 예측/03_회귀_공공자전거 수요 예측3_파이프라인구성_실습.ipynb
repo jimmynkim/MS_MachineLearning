{
 "cells": [
  {
   "cell_type": "code",
   "execution_count": 1,
   "id": "c37758de",
   "metadata": {
    "colab": {
     "base_uri": "https://localhost:8080/",
     "height": 237
    },
    "executionInfo": {
     "elapsed": 3388,
     "status": "ok",
     "timestamp": 1722762556575,
     "user": {
      "displayName": "Jayoung Kim",
      "userId": "14447265827232008674"
     },
     "user_tz": -540
    },
    "id": "c37758de",
    "outputId": "c85bb55d-1901-4f3b-b364-b30c1f8c4904"
   },
   "outputs": [],
   "source": [
    "import pandas as pd\n",
    "import numpy as np\n",
    "import matplotlib.pyplot as plt\n",
    "import seaborn as sns\n",
    "import koreanize_matplotlib"
   ]
  },
  {
   "cell_type": "markdown",
   "id": "Dgz6yfD1iEB1",
   "metadata": {
    "id": "Dgz6yfD1iEB1"
   },
   "source": [
    "## 데이터 준비"
   ]
  },
  {
   "cell_type": "code",
   "execution_count": 2,
   "id": "8d7c39a8",
   "metadata": {
    "colab": {
     "base_uri": "https://localhost:8080/",
     "height": 269
    },
    "executionInfo": {
     "elapsed": 617,
     "status": "ok",
     "timestamp": 1722762557187,
     "user": {
      "displayName": "Jayoung Kim",
      "userId": "14447265827232008674"
     },
     "user_tz": -540
    },
    "id": "8d7c39a8",
    "outputId": "687966af-5451-4eaf-f732-0d857e0fb903"
   },
   "outputs": [],
   "source": [
    "# -------------------------------------------------\n",
    "# data 불러오기\n",
    "# -------------------------------------------------\n",
    "df = pd.read_csv('C:/Users/EL087/Desktop/MS_MachineLearning/data/bike_sharing_demand.csv', parse_dates=['datetime'])"
   ]
  },
  {
   "cell_type": "markdown",
   "id": "a1acaf34",
   "metadata": {},
   "source": [
    "# 전처리"
   ]
  },
  {
   "cell_type": "markdown",
   "id": "4d4a7794",
   "metadata": {},
   "source": [
    "### 파생컬럼 추가"
   ]
  },
  {
   "cell_type": "code",
   "execution_count": 3,
   "id": "9a2a4dd1",
   "metadata": {},
   "outputs": [
    {
     "data": {
      "text/html": [
       "<div>\n",
       "<style scoped>\n",
       "    .dataframe tbody tr th:only-of-type {\n",
       "        vertical-align: middle;\n",
       "    }\n",
       "\n",
       "    .dataframe tbody tr th {\n",
       "        vertical-align: top;\n",
       "    }\n",
       "\n",
       "    .dataframe thead th {\n",
       "        text-align: right;\n",
       "    }\n",
       "</style>\n",
       "<table border=\"1\" class=\"dataframe\">\n",
       "  <thead>\n",
       "    <tr style=\"text-align: right;\">\n",
       "      <th></th>\n",
       "      <th>datetime</th>\n",
       "      <th>season</th>\n",
       "      <th>holiday</th>\n",
       "      <th>workingday</th>\n",
       "      <th>weather</th>\n",
       "      <th>temp</th>\n",
       "      <th>atemp</th>\n",
       "      <th>humidity</th>\n",
       "      <th>windspeed</th>\n",
       "      <th>casual</th>\n",
       "      <th>registered</th>\n",
       "      <th>count</th>\n",
       "      <th>year</th>\n",
       "      <th>month</th>\n",
       "      <th>hour</th>\n",
       "      <th>dayofweek</th>\n",
       "    </tr>\n",
       "  </thead>\n",
       "  <tbody>\n",
       "    <tr>\n",
       "      <th>0</th>\n",
       "      <td>2011-01-01 00:00:00</td>\n",
       "      <td>1</td>\n",
       "      <td>0</td>\n",
       "      <td>0</td>\n",
       "      <td>1</td>\n",
       "      <td>9.84</td>\n",
       "      <td>14.395</td>\n",
       "      <td>81</td>\n",
       "      <td>0.0</td>\n",
       "      <td>3</td>\n",
       "      <td>13</td>\n",
       "      <td>16</td>\n",
       "      <td>2011</td>\n",
       "      <td>1</td>\n",
       "      <td>0</td>\n",
       "      <td>5</td>\n",
       "    </tr>\n",
       "    <tr>\n",
       "      <th>1</th>\n",
       "      <td>2011-01-01 01:00:00</td>\n",
       "      <td>1</td>\n",
       "      <td>0</td>\n",
       "      <td>0</td>\n",
       "      <td>1</td>\n",
       "      <td>9.02</td>\n",
       "      <td>13.635</td>\n",
       "      <td>80</td>\n",
       "      <td>0.0</td>\n",
       "      <td>8</td>\n",
       "      <td>32</td>\n",
       "      <td>40</td>\n",
       "      <td>2011</td>\n",
       "      <td>1</td>\n",
       "      <td>1</td>\n",
       "      <td>5</td>\n",
       "    </tr>\n",
       "    <tr>\n",
       "      <th>2</th>\n",
       "      <td>2011-01-01 02:00:00</td>\n",
       "      <td>1</td>\n",
       "      <td>0</td>\n",
       "      <td>0</td>\n",
       "      <td>1</td>\n",
       "      <td>9.02</td>\n",
       "      <td>13.635</td>\n",
       "      <td>80</td>\n",
       "      <td>0.0</td>\n",
       "      <td>5</td>\n",
       "      <td>27</td>\n",
       "      <td>32</td>\n",
       "      <td>2011</td>\n",
       "      <td>1</td>\n",
       "      <td>2</td>\n",
       "      <td>5</td>\n",
       "    </tr>\n",
       "    <tr>\n",
       "      <th>3</th>\n",
       "      <td>2011-01-01 03:00:00</td>\n",
       "      <td>1</td>\n",
       "      <td>0</td>\n",
       "      <td>0</td>\n",
       "      <td>1</td>\n",
       "      <td>9.84</td>\n",
       "      <td>14.395</td>\n",
       "      <td>75</td>\n",
       "      <td>0.0</td>\n",
       "      <td>3</td>\n",
       "      <td>10</td>\n",
       "      <td>13</td>\n",
       "      <td>2011</td>\n",
       "      <td>1</td>\n",
       "      <td>3</td>\n",
       "      <td>5</td>\n",
       "    </tr>\n",
       "    <tr>\n",
       "      <th>4</th>\n",
       "      <td>2011-01-01 04:00:00</td>\n",
       "      <td>1</td>\n",
       "      <td>0</td>\n",
       "      <td>0</td>\n",
       "      <td>1</td>\n",
       "      <td>9.84</td>\n",
       "      <td>14.395</td>\n",
       "      <td>75</td>\n",
       "      <td>0.0</td>\n",
       "      <td>0</td>\n",
       "      <td>1</td>\n",
       "      <td>1</td>\n",
       "      <td>2011</td>\n",
       "      <td>1</td>\n",
       "      <td>4</td>\n",
       "      <td>5</td>\n",
       "    </tr>\n",
       "  </tbody>\n",
       "</table>\n",
       "</div>"
      ],
      "text/plain": [
       "             datetime  season  holiday  workingday  weather  temp   atemp  \\\n",
       "0 2011-01-01 00:00:00       1        0           0        1  9.84  14.395   \n",
       "1 2011-01-01 01:00:00       1        0           0        1  9.02  13.635   \n",
       "2 2011-01-01 02:00:00       1        0           0        1  9.02  13.635   \n",
       "3 2011-01-01 03:00:00       1        0           0        1  9.84  14.395   \n",
       "4 2011-01-01 04:00:00       1        0           0        1  9.84  14.395   \n",
       "\n",
       "   humidity  windspeed  casual  registered  count  year  month  hour  \\\n",
       "0        81        0.0       3          13     16  2011      1     0   \n",
       "1        80        0.0       8          32     40  2011      1     1   \n",
       "2        80        0.0       5          27     32  2011      1     2   \n",
       "3        75        0.0       3          10     13  2011      1     3   \n",
       "4        75        0.0       0           1      1  2011      1     4   \n",
       "\n",
       "   dayofweek  \n",
       "0          5  \n",
       "1          5  \n",
       "2          5  \n",
       "3          5  \n",
       "4          5  "
      ]
     },
     "execution_count": 3,
     "metadata": {},
     "output_type": "execute_result"
    }
   ],
   "source": [
    "# --------------------------------------------\n",
    "# 연, 월, 시, 요일\n",
    "# --------------------------------------------\n",
    "df['year'] = df['datetime'].dt.year\n",
    "df['month'] = df['datetime'].dt.month\n",
    "df['hour'] = df['datetime'].dt.hour\n",
    "df['dayofweek'] = df['datetime'].dt.dayofweek # 월요일:0, 일요일:6\n",
    "df.head()"
   ]
  },
  {
   "cell_type": "markdown",
   "id": "a238c39a",
   "metadata": {},
   "source": [
    "### 변수선택"
   ]
  },
  {
   "cell_type": "code",
   "execution_count": 4,
   "id": "cd1c6b0f",
   "metadata": {},
   "outputs": [
    {
     "data": {
      "text/html": [
       "<div>\n",
       "<style scoped>\n",
       "    .dataframe tbody tr th:only-of-type {\n",
       "        vertical-align: middle;\n",
       "    }\n",
       "\n",
       "    .dataframe tbody tr th {\n",
       "        vertical-align: top;\n",
       "    }\n",
       "\n",
       "    .dataframe thead th {\n",
       "        text-align: right;\n",
       "    }\n",
       "</style>\n",
       "<table border=\"1\" class=\"dataframe\">\n",
       "  <thead>\n",
       "    <tr style=\"text-align: right;\">\n",
       "      <th></th>\n",
       "      <th>season</th>\n",
       "      <th>holiday</th>\n",
       "      <th>workingday</th>\n",
       "      <th>weather</th>\n",
       "      <th>atemp</th>\n",
       "      <th>humidity</th>\n",
       "      <th>windspeed</th>\n",
       "      <th>year</th>\n",
       "      <th>month</th>\n",
       "      <th>hour</th>\n",
       "      <th>dayofweek</th>\n",
       "    </tr>\n",
       "  </thead>\n",
       "  <tbody>\n",
       "    <tr>\n",
       "      <th>0</th>\n",
       "      <td>1</td>\n",
       "      <td>0</td>\n",
       "      <td>0</td>\n",
       "      <td>1</td>\n",
       "      <td>14.395</td>\n",
       "      <td>81</td>\n",
       "      <td>0.0</td>\n",
       "      <td>2011</td>\n",
       "      <td>1</td>\n",
       "      <td>0</td>\n",
       "      <td>5</td>\n",
       "    </tr>\n",
       "    <tr>\n",
       "      <th>1</th>\n",
       "      <td>1</td>\n",
       "      <td>0</td>\n",
       "      <td>0</td>\n",
       "      <td>1</td>\n",
       "      <td>13.635</td>\n",
       "      <td>80</td>\n",
       "      <td>0.0</td>\n",
       "      <td>2011</td>\n",
       "      <td>1</td>\n",
       "      <td>1</td>\n",
       "      <td>5</td>\n",
       "    </tr>\n",
       "    <tr>\n",
       "      <th>2</th>\n",
       "      <td>1</td>\n",
       "      <td>0</td>\n",
       "      <td>0</td>\n",
       "      <td>1</td>\n",
       "      <td>13.635</td>\n",
       "      <td>80</td>\n",
       "      <td>0.0</td>\n",
       "      <td>2011</td>\n",
       "      <td>1</td>\n",
       "      <td>2</td>\n",
       "      <td>5</td>\n",
       "    </tr>\n",
       "    <tr>\n",
       "      <th>3</th>\n",
       "      <td>1</td>\n",
       "      <td>0</td>\n",
       "      <td>0</td>\n",
       "      <td>1</td>\n",
       "      <td>14.395</td>\n",
       "      <td>75</td>\n",
       "      <td>0.0</td>\n",
       "      <td>2011</td>\n",
       "      <td>1</td>\n",
       "      <td>3</td>\n",
       "      <td>5</td>\n",
       "    </tr>\n",
       "    <tr>\n",
       "      <th>4</th>\n",
       "      <td>1</td>\n",
       "      <td>0</td>\n",
       "      <td>0</td>\n",
       "      <td>1</td>\n",
       "      <td>14.395</td>\n",
       "      <td>75</td>\n",
       "      <td>0.0</td>\n",
       "      <td>2011</td>\n",
       "      <td>1</td>\n",
       "      <td>4</td>\n",
       "      <td>5</td>\n",
       "    </tr>\n",
       "  </tbody>\n",
       "</table>\n",
       "</div>"
      ],
      "text/plain": [
       "   season  holiday  workingday  weather   atemp  humidity  windspeed  year  \\\n",
       "0       1        0           0        1  14.395        81        0.0  2011   \n",
       "1       1        0           0        1  13.635        80        0.0  2011   \n",
       "2       1        0           0        1  13.635        80        0.0  2011   \n",
       "3       1        0           0        1  14.395        75        0.0  2011   \n",
       "4       1        0           0        1  14.395        75        0.0  2011   \n",
       "\n",
       "   month  hour  dayofweek  \n",
       "0      1     0          5  \n",
       "1      1     1          5  \n",
       "2      1     2          5  \n",
       "3      1     3          5  \n",
       "4      1     4          5  "
      ]
     },
     "execution_count": 4,
     "metadata": {},
     "output_type": "execute_result"
    }
   ],
   "source": [
    "# --------------------------------------------\n",
    "# 독립변수, 종속변수선택\n",
    "# --------------------------------------------\n",
    "\n",
    "# 독립변수에 사용하지 않을 컬럼\n",
    "del_cols = ['datetime','casual','registered','count','temp'] \n",
    "\n",
    "X = df.drop(del_cols, axis=1).copy()\n",
    "y = df['count']\n",
    "\n",
    "X.head()"
   ]
  },
  {
   "cell_type": "code",
   "execution_count": 5,
   "id": "aed7ac9e",
   "metadata": {},
   "outputs": [],
   "source": [
    "# ------------------------------------------------\n",
    "# 독립변수 - 범주형, 수치형, 순환형 변수 구분\n",
    "# ------------------------------------------------\n",
    "cat_cols = ['season','holiday','workingday','weather']      \n",
    "num_cols = ['atemp','humidity','windspeed', 'year']\n",
    "cycle_cols = ['month', 'hour', 'dayofweek']"
   ]
  },
  {
   "cell_type": "markdown",
   "id": "d241a406",
   "metadata": {},
   "source": [
    "### 훈련세트/테스트세트 분할"
   ]
  },
  {
   "cell_type": "code",
   "execution_count": 6,
   "id": "bd170301",
   "metadata": {},
   "outputs": [
    {
     "name": "stdout",
     "output_type": "stream",
     "text": [
      "(8164, 11) (2722, 11) (8164,) (2722,)\n"
     ]
    }
   ],
   "source": [
    "# 훈련세트/테스트세트 분할\n",
    "from sklearn.model_selection import train_test_split\n",
    "X_train, X_test, y_train, y_test = train_test_split(X, y, random_state=42)\n",
    "print(X_train.shape, X_test.shape, y_train.shape, y_test.shape)"
   ]
  },
  {
   "cell_type": "markdown",
   "id": "f52e3360",
   "metadata": {},
   "source": [
    "### 전처리기 구성\n",
    "\n",
    "* 여러 종류의 전처리 작업을 효율적이고 일관성 있게, 한 번에 처리하기 위해 사용\n",
    "\n",
    "* ColumnTransformer(동시 처리)\n",
    "    * 목적: 서로 다른 유형의 열(Columns)에 대해 다른 전처리(Scaling, Encoding 등)를 한 번에 적용\n",
    "    * 여러 전처리기를 묶어서 하나의 변환기를 만드는 객체\n"
   ]
  },
  {
   "cell_type": "code",
   "execution_count": 7,
   "id": "5ae7f76a",
   "metadata": {},
   "outputs": [],
   "source": [
    "# FunctionTransformer에 사용될 순환형 데이터 인코딩 함수 정의\n",
    "def cyclical_feature_engineer(X, feature_names):\n",
    "    \"\"\"\n",
    "    주어진 열에 대해 sin/cos 인코딩을 수행하고 원본 특성을 유지하여 Numpy 배열 형식으로 반환\n",
    "    \"\"\"\n",
    "    # X는 ColumnTransformer로부터 NumPy 배열로 전달되므로, DataFrame으로 변환 후 처리합니다.\n",
    "    X_df = pd.DataFrame(X, columns=feature_names) \n",
    "    \n",
    "    X_new_list = []\n",
    "    \n",
    "    # 각 순환형 특성에 대해 인코딩 수행 (주기: hour=24, month=12, dayofweek=7)\n",
    "    cycle_map = {'hour': 24, 'month': 12, 'dayofweek': 7}\n",
    "    \n",
    "    for feature in feature_names:\n",
    "        cycle = cycle_map.get(feature)\n",
    "        if cycle:\n",
    "            # sin/cos 값 계산 후 리스트에 추가\n",
    "            X_new_list.append(np.sin(2 * np.pi * X_df[feature] / cycle).values)\n",
    "            X_new_list.append(np.cos(2 * np.pi * X_df[feature] / cycle).values)\n",
    "            \n",
    "    # 새로 생성된 특성들을 수평(axis=1)으로 합쳐 NumPy 배열로 반환\n",
    "    return np.stack(X_new_list, axis=1)"
   ]
  },
  {
   "cell_type": "code",
   "execution_count": 8,
   "id": "c3d7e982",
   "metadata": {},
   "outputs": [],
   "source": [
    "from sklearn.preprocessing import OneHotEncoder, StandardScaler, FunctionTransformer\n",
    "from sklearn.compose import ColumnTransformer\n",
    "# -----------------------------\n",
    "# ColumnTransformer 구성\n",
    "#   - 순환형 데이터 인코딩\n",
    "#   - \"cat\" : 범주형 → OneHotEncoder\n",
    "#   - \"num\" : 수치형 → StandardScaler\n",
    "#   remainder=\"passthrough\" : transformers에 포함되지 않은 컬럼은 변환 없이 그대로 유지\n",
    "# -----------------------------\n",
    "preprocessor = ColumnTransformer(\n",
    "    transformers=[\n",
    "        (\"cyclical\",\n",
    "         FunctionTransformer(cyclical_feature_engineer, validate=False, kw_args={'feature_names': cycle_cols}),\n",
    "         cycle_cols  # ['month', 'hour', 'dayofweek'] 열만 이 변환기에 전달)\n",
    "        ),\n",
    "        (\"cat\", OneHotEncoder(handle_unknown=\"ignore\", sparse_output=False), cat_cols),\n",
    "        (\"num\", StandardScaler(), num_cols)\n",
    "    ],\n",
    "    remainder=\"drop\"   # cycle_cols에 사용된 원본 3개 열이 최종 출력에서 제거\n",
    ")"
   ]
  },
  {
   "cell_type": "markdown",
   "id": "a477cd83",
   "metadata": {},
   "source": [
    "### 파이프라인 구성\n",
    "* 파이프라인 (순서 관리)\n",
    "\n",
    "    * 목적: 전처리 단계들(변환기)과 최종 모델(추정기)을 순차적인 하나의 워크플로우로 연결하고 관리\n",
    "    * 데이터 처리 과정을 순차적으로 연결하여 자동화하는 도구"
   ]
  },
  {
   "cell_type": "code",
   "execution_count": 9,
   "id": "aba4f549",
   "metadata": {},
   "outputs": [
    {
     "name": "stdout",
     "output_type": "stream",
     "text": [
      "r2:0.9527601607714882\n",
      "rmse:39.37169006476704\n",
      "mae:24.57303459466079\n",
      "mse:1550.1299785560757\n",
      "train>>>>>>>>>>>> 0.9922765080878488\n",
      "test>>>>>>>>>>>>> 0.9527601607714882\n"
     ]
    }
   ],
   "source": [
    "from sklearn.pipeline import Pipeline # 파이프라인 클래스\n",
    "from sklearn.ensemble import RandomForestRegressor # 모델 클래스\n",
    "\n",
    "# --------------------------------------------\n",
    "# 파이프라인 정의\n",
    "# --------------------------------------------\n",
    "pipeline = Pipeline(steps=[\n",
    "    ('preprocessor', preprocessor),\n",
    "    ('model', RandomForestRegressor(random_state=42))\n",
    "])\n",
    "\n",
    "# --------------------------------------------\n",
    "# 훈련\n",
    "# --------------------------------------------\n",
    "pipeline.fit(X_train, y_train)\n",
    "\n",
    "# --------------------------------------------\n",
    "# 예측\n",
    "# --------------------------------------------\n",
    "y_pred = pipeline.predict(X_test)\n",
    "\n",
    "# --------------------------------------------\n",
    "# 모델 성능 평가\n",
    "# --------------------------------------------\n",
    "from sklearn.metrics import r2_score, root_mean_squared_error, mean_absolute_error, mean_squared_error\n",
    "r2 = r2_score(y_test, y_pred)\n",
    "rmse = root_mean_squared_error(y_test, y_pred)\n",
    "mae = mean_absolute_error(y_test, y_pred)\n",
    "mse = mean_squared_error(y_test, y_pred)\n",
    "\n",
    "print(f'r2:{r2}')\n",
    "print(f'rmse:{rmse}')\n",
    "print(f'mae:{mae}')\n",
    "print(f'mse:{mse}')\n",
    "\n",
    "# --------------------------------------------\n",
    "# 과적합 확인\n",
    "# --------------------------------------------\n",
    "print('train>>>>>>>>>>>>', pipeline.score(X_train, y_train))\n",
    "print('test>>>>>>>>>>>>>', pipeline.score(X_test, y_test))"
   ]
  },
  {
   "cell_type": "markdown",
   "id": "96216db8",
   "metadata": {},
   "source": [
    "### 파이프라인 다운로드\n"
   ]
  },
  {
   "cell_type": "code",
   "execution_count": 10,
   "id": "17010979",
   "metadata": {},
   "outputs": [
    {
     "data": {
      "text/plain": [
       "['C:/Users/EL087/Desktop/MS_MachineLearning/model/bike_rent_pipe.pkl']"
      ]
     },
     "execution_count": 10,
     "metadata": {},
     "output_type": "execute_result"
    }
   ],
   "source": [
    "import joblib\n",
    "\n",
    "# ----------------------\n",
    "# 파이프라인 저장\n",
    "# ----------------------\n",
    "joblib.dump(pipeline, \"C:/Users/EL087/Desktop/MS_MachineLearning/model/bike_rent_pipe.pkl\")"
   ]
  },
  {
   "cell_type": "markdown",
   "id": "6518d8ba",
   "metadata": {},
   "source": [
    "- .pkl 파일의 의미와 사용\n",
    "\n",
    "    **1. 객체의 직렬화 (Serialization)**\n",
    "\n",
    "- 의미: $\\text{.pkl}$ 파일은 파이썬 프로그램에서 사용되는 **객체(예: 훈련된 머신러닝 모델, 전처리기, 복잡한 데이터 구조 등)**의 상태를 그대로 저장한 것\n",
    "\n",
    "- 목적: 프로그램을 다시 실행할 때, 학습에 오래 걸리는 모델을 처음부터 다시 훈련할 필요 없이 저장된 $\\text{.pkl}$ 파일을 불러와서(역직렬화) 즉시 예측에 사용할 수 있게 함\n",
    "\n",
    "    **2. 머신러닝에서의 활용**\n",
    "\n",
    "    머신러닝 프로젝트에서 $\\text{.pkl}$은 다음과 같은 핵심 구성 요소를 저장하는 데 필수적으로 사용\n",
    "\n",
    "- 훈련된 모델: $\\text{RandomForestRegressor}$나 $\\text{LinearRegression}$ 같은 훈련이 완료된 모델 객체를 저장하여 배포\n",
    "\n",
    "- 전처리기: $\\text{StandardScaler}$나 $\\text{OneHotEncoder}$처럼 훈련 데이터의 통계 정보(평균, 범주 목록 등)를 학습한 전처리기 객체를 저장,   \n",
    "이를 통해 새로운 테스트 데이터에도 동일한 기준으로 전처리를 적용할 수 있음"
   ]
  },
  {
   "cell_type": "markdown",
   "id": "5869f896",
   "metadata": {},
   "source": [
    "### 새로운 데이터 예측"
   ]
  },
  {
   "cell_type": "code",
   "execution_count": 11,
   "id": "8b662b22",
   "metadata": {},
   "outputs": [],
   "source": [
    "import joblib\n",
    "\n",
    "# ------------------\n",
    "# 파이프라인 불러오기\n",
    "# ------------------\n",
    "file_path = \"C:/Users/EL087/Desktop/MS_MachineLearning/model/bike_rent_pipe.pkl\"\n",
    "loaded_pipe = joblib.load(file_path)"
   ]
  },
  {
   "cell_type": "code",
   "execution_count": 12,
   "id": "160c4d74",
   "metadata": {},
   "outputs": [
    {
     "name": "stdout",
     "output_type": "stream",
     "text": [
      "예상 대여 수: 603대\n"
     ]
    }
   ],
   "source": [
    "# ------------------\n",
    "# 예측 \n",
    "# ------------------\n",
    "\n",
    "new_row = {\n",
    "    \"season\": 2, \"holiday\": 0, \"workingday\": 1, \"weather\": 3,\n",
    "    \"atemp\": 20.5, \"humidity\": 55, \"windspeed\": 0.12,\n",
    "    \"year\": 2025, \"month\": 5, \"day\": 1, \"hour\": 17, \"dayofweek\": 3\n",
    "}\n",
    "\n",
    "new_df = pd.DataFrame([new_row])\n",
    "\n",
    "# Pipeline 내부에서 자동으로 → 순환형 데이터 인코딩 -> One‑Hot → 스케일링 → 예측\n",
    "count_pred = loaded_pipe.predict(new_df)[0]\n",
    "print(f\"예상 대여 수: {count_pred:.0f}대\")"
   ]
  }
 ],
 "metadata": {
  "colab": {
   "provenance": [],
   "toc_visible": true
  },
  "kernelspec": {
   "display_name": "Python 3",
   "language": "python",
   "name": "python3"
  },
  "language_info": {
   "codemirror_mode": {
    "name": "ipython",
    "version": 3
   },
   "file_extension": ".py",
   "mimetype": "text/x-python",
   "name": "python",
   "nbconvert_exporter": "python",
   "pygments_lexer": "ipython3",
   "version": "3.10.11"
  },
  "toc": {
   "base_numbering": 1,
   "nav_menu": {},
   "number_sections": true,
   "sideBar": true,
   "skip_h1_title": false,
   "title_cell": "Table of Contents",
   "title_sidebar": "Contents",
   "toc_cell": false,
   "toc_position": {
    "height": "calc(100% - 180px)",
    "left": "10px",
    "top": "150px",
    "width": "250.698px"
   },
   "toc_section_display": true,
   "toc_window_display": true
  }
 },
 "nbformat": 4,
 "nbformat_minor": 5
}
